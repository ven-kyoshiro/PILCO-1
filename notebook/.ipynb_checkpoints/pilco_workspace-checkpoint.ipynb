{
 "cells": [
  {
   "cell_type": "code",
   "execution_count": 1,
   "metadata": {},
   "outputs": [],
   "source": [
    "import sys\n",
    "sys.path.append('../')"
   ]
  },
  {
   "cell_type": "code",
   "execution_count": 2,
   "metadata": {},
   "outputs": [
    {
     "name": "stderr",
     "output_type": "stream",
     "text": [
      "/home/lab/shigeharu/.pyenv/versions/3.6.5/envs/365nog/lib/python3.6/site-packages/gym/logger.py:30: UserWarning: \u001b[33mWARN: gym.spaces.Box autodetected dtype as <class 'numpy.float32'>. Please provide explicit dtype.\u001b[0m\n",
      "  warnings.warn(colorize('%s: %s'%('WARN', msg % args), 'yellow'))\n",
      "WARNING:gpflow.logdensities:Shape of x must be 2D at computation.\n",
      "WARNING:gpflow.logdensities:Shape of x must be 2D at computation.\n",
      "WARNING:gpflow.logdensities:Shape of x must be 2D at computation.\n",
      "WARNING:gpflow.logdensities:Shape of x must be 2D at computation.\n",
      "WARNING:gpflow.logdensities:Shape of x must be 2D at computation.\n"
     ]
    },
    {
     "name": "stdout",
     "output_type": "stream",
     "text": [
      "INFO:tensorflow:Optimization terminated with:\n",
      "  Message: b'CONVERGENCE: REL_REDUCTION_OF_F_<=_FACTR*EPSMCH'\n",
      "  Objective function value: -1777.299186\n",
      "  Number of iterations: 64\n",
      "  Number of functions evaluations: 78\n"
     ]
    },
    {
     "name": "stderr",
     "output_type": "stream",
     "text": [
      "INFO:tensorflow:Optimization terminated with:\n",
      "  Message: b'CONVERGENCE: REL_REDUCTION_OF_F_<=_FACTR*EPSMCH'\n",
      "  Objective function value: -1777.299186\n",
      "  Number of iterations: 64\n",
      "  Number of functions evaluations: 78\n"
     ]
    },
    {
     "name": "stdout",
     "output_type": "stream",
     "text": [
      "INFO:tensorflow:Optimization terminated with:\n",
      "  Message: b'CONVERGENCE: REL_REDUCTION_OF_F_<=_FACTR*EPSMCH'\n",
      "  Objective function value: -1731.243470\n",
      "  Number of iterations: 51\n",
      "  Number of functions evaluations: 60\n"
     ]
    },
    {
     "name": "stderr",
     "output_type": "stream",
     "text": [
      "INFO:tensorflow:Optimization terminated with:\n",
      "  Message: b'CONVERGENCE: REL_REDUCTION_OF_F_<=_FACTR*EPSMCH'\n",
      "  Objective function value: -1731.243470\n",
      "  Number of iterations: 51\n",
      "  Number of functions evaluations: 60\n"
     ]
    },
    {
     "name": "stdout",
     "output_type": "stream",
     "text": [
      "INFO:tensorflow:Optimization terminated with:\n",
      "  Message: b'CONVERGENCE: REL_REDUCTION_OF_F_<=_FACTR*EPSMCH'\n",
      "  Objective function value: -1759.502566\n",
      "  Number of iterations: 62\n",
      "  Number of functions evaluations: 76\n"
     ]
    },
    {
     "name": "stderr",
     "output_type": "stream",
     "text": [
      "INFO:tensorflow:Optimization terminated with:\n",
      "  Message: b'CONVERGENCE: REL_REDUCTION_OF_F_<=_FACTR*EPSMCH'\n",
      "  Objective function value: -1759.502566\n",
      "  Number of iterations: 62\n",
      "  Number of functions evaluations: 76\n"
     ]
    },
    {
     "name": "stdout",
     "output_type": "stream",
     "text": [
      "INFO:tensorflow:Optimization terminated with:\n",
      "  Message: b'CONVERGENCE: REL_REDUCTION_OF_F_<=_FACTR*EPSMCH'\n",
      "  Objective function value: -1764.031791\n",
      "  Number of iterations: 94\n",
      "  Number of functions evaluations: 109\n"
     ]
    },
    {
     "name": "stderr",
     "output_type": "stream",
     "text": [
      "INFO:tensorflow:Optimization terminated with:\n",
      "  Message: b'CONVERGENCE: REL_REDUCTION_OF_F_<=_FACTR*EPSMCH'\n",
      "  Objective function value: -1764.031791\n",
      "  Number of iterations: 94\n",
      "  Number of functions evaluations: 109\n"
     ]
    },
    {
     "name": "stdout",
     "output_type": "stream",
     "text": [
      "INFO:tensorflow:Optimization terminated with:\n",
      "  Message: b'CONVERGENCE: REL_REDUCTION_OF_F_<=_FACTR*EPSMCH'\n",
      "  Objective function value: -1708.909801\n",
      "  Number of iterations: 57\n",
      "  Number of functions evaluations: 75\n"
     ]
    },
    {
     "name": "stderr",
     "output_type": "stream",
     "text": [
      "INFO:tensorflow:Optimization terminated with:\n",
      "  Message: b'CONVERGENCE: REL_REDUCTION_OF_F_<=_FACTR*EPSMCH'\n",
      "  Objective function value: -1708.909801\n",
      "  Number of iterations: 57\n",
      "  Number of functions evaluations: 75\n"
     ]
    },
    {
     "name": "stdout",
     "output_type": "stream",
     "text": [
      "-----Learned models------\n",
      "---Lengthscales---\n",
      "         GP0       GP1        GP2         GP3        GP4\n",
      "0  92250.883  1039.957  39880.244  127180.050  15041.078\n",
      "1     12.452  1418.530  41459.459  121465.491  16879.116\n",
      "2  61156.543     1.313   5437.399       0.901   6430.086\n",
      "3  72522.356    12.567      0.866      28.569      1.167\n",
      "4  94211.878    64.971      7.232      17.934     27.663\n",
      "5     65.102    16.635     18.914      48.447     19.120\n",
      "---Variances---\n",
      "     GP0    GP1    GP2    GP3    GP4\n",
      "0  0.015  0.972  0.001  0.029  4.107\n",
      "---Noises---\n",
      "         GP0        GP1        GP2        GP3        GP4\n",
      "0  1.000e-06  1.000e-06  1.000e-06  1.000e-06  1.000e-06\n",
      "############################################################## pilco.optimize_models() takes 10.529339075088501sec\n",
      "INFO:tensorflow:Optimization terminated with:\n",
      "  Message: b'STOP: TOTAL NO. of ITERATIONS REACHED LIMIT'\n",
      "  Objective function value: -38.836318\n",
      "  Number of iterations: 50\n",
      "  Number of functions evaluations: 68\n"
     ]
    },
    {
     "name": "stderr",
     "output_type": "stream",
     "text": [
      "INFO:tensorflow:Optimization terminated with:\n",
      "  Message: b'STOP: TOTAL NO. of ITERATIONS REACHED LIMIT'\n",
      "  Objective function value: -38.836318\n",
      "  Number of iterations: 50\n",
      "  Number of functions evaluations: 68\n"
     ]
    },
    {
     "name": "stdout",
     "output_type": "stream",
     "text": [
      "Controller's optimization: done in 326.7 seconds with reward=38.836.\n",
      "############################################################## pilco.optimize_policy() takes 334.2228043079376sec\n",
      "No of ops: 8177\n",
      "############################################################## pilco.mgpr takes 3.4672091007232666sec\n",
      "INFO:tensorflow:Optimization terminated with:\n",
      "  Message: b'CONVERGENCE: REL_REDUCTION_OF_F_<=_FACTR*EPSMCH'\n",
      "  Objective function value: -2236.901356\n",
      "  Number of iterations: 54\n",
      "  Number of functions evaluations: 67\n"
     ]
    },
    {
     "name": "stderr",
     "output_type": "stream",
     "text": [
      "INFO:tensorflow:Optimization terminated with:\n",
      "  Message: b'CONVERGENCE: REL_REDUCTION_OF_F_<=_FACTR*EPSMCH'\n",
      "  Objective function value: -2236.901356\n",
      "  Number of iterations: 54\n",
      "  Number of functions evaluations: 67\n"
     ]
    },
    {
     "name": "stdout",
     "output_type": "stream",
     "text": [
      "INFO:tensorflow:Optimization terminated with:\n",
      "  Message: b'ABNORMAL_TERMINATION_IN_LNSRCH'\n",
      "  Objective function value: -1367.831685\n",
      "  Number of iterations: 88\n",
      "  Number of functions evaluations: 175\n"
     ]
    },
    {
     "name": "stderr",
     "output_type": "stream",
     "text": [
      "INFO:tensorflow:Optimization terminated with:\n",
      "  Message: b'ABNORMAL_TERMINATION_IN_LNSRCH'\n",
      "  Objective function value: -1367.831685\n",
      "  Number of iterations: 88\n",
      "  Number of functions evaluations: 175\n"
     ]
    },
    {
     "name": "stdout",
     "output_type": "stream",
     "text": [
      "INFO:tensorflow:Optimization terminated with:\n",
      "  Message: b'CONVERGENCE: REL_REDUCTION_OF_F_<=_FACTR*EPSMCH'\n",
      "  Objective function value: -2329.677858\n",
      "  Number of iterations: 66\n",
      "  Number of functions evaluations: 73\n"
     ]
    },
    {
     "name": "stderr",
     "output_type": "stream",
     "text": [
      "INFO:tensorflow:Optimization terminated with:\n",
      "  Message: b'CONVERGENCE: REL_REDUCTION_OF_F_<=_FACTR*EPSMCH'\n",
      "  Objective function value: -2329.677858\n",
      "  Number of iterations: 66\n",
      "  Number of functions evaluations: 73\n"
     ]
    },
    {
     "name": "stdout",
     "output_type": "stream",
     "text": [
      "INFO:tensorflow:Optimization terminated with:\n",
      "  Message: b'CONVERGENCE: REL_REDUCTION_OF_F_<=_FACTR*EPSMCH'\n",
      "  Objective function value: -2112.691805\n",
      "  Number of iterations: 77\n",
      "  Number of functions evaluations: 90\n"
     ]
    },
    {
     "name": "stderr",
     "output_type": "stream",
     "text": [
      "INFO:tensorflow:Optimization terminated with:\n",
      "  Message: b'CONVERGENCE: REL_REDUCTION_OF_F_<=_FACTR*EPSMCH'\n",
      "  Objective function value: -2112.691805\n",
      "  Number of iterations: 77\n",
      "  Number of functions evaluations: 90\n"
     ]
    },
    {
     "name": "stdout",
     "output_type": "stream",
     "text": [
      "INFO:tensorflow:Optimization terminated with:\n",
      "  Message: b'ABNORMAL_TERMINATION_IN_LNSRCH'\n",
      "  Objective function value: -1168.092091\n",
      "  Number of iterations: 82\n",
      "  Number of functions evaluations: 156\n"
     ]
    },
    {
     "name": "stderr",
     "output_type": "stream",
     "text": [
      "INFO:tensorflow:Optimization terminated with:\n",
      "  Message: b'ABNORMAL_TERMINATION_IN_LNSRCH'\n",
      "  Objective function value: -1168.092091\n",
      "  Number of iterations: 82\n",
      "  Number of functions evaluations: 156\n"
     ]
    },
    {
     "name": "stdout",
     "output_type": "stream",
     "text": [
      "-----Learned models------\n",
      "---Lengthscales---\n",
      "       GP0        GP1       GP2      GP3        GP4\n",
      "0    0.325      0.080  9258.296    0.161      0.069\n",
      "1   11.749  19924.458  9540.981  956.426   2448.983\n",
      "2   76.404      0.431  1700.958    3.755      0.347\n",
      "3  196.984   7892.773     0.943  457.829   1655.298\n",
      "4  396.887  18484.629     5.486  103.668  25153.663\n",
      "5   85.901   1264.578    16.220  422.370    766.143\n",
      "---Variances---\n",
      "     GP0       GP1    GP2    GP3        GP4\n",
      "0  0.015  49078.37  0.001  1.488  58264.057\n",
      "---Noises---\n",
      "         GP0        GP1        GP2        GP3        GP4\n",
      "0  1.000e-06  1.000e-06  1.000e-06  1.000e-06  1.000e-06\n",
      "############################################################## pilco.optimize_models() takes 21.94959020614624sec\n",
      "Randomising controller\n",
      "INFO:tensorflow:Optimization terminated with:\n",
      "  Message: b'ABNORMAL_TERMINATION_IN_LNSRCH'\n",
      "  Objective function value: -0.705038\n",
      "  Number of iterations: 10\n",
      "  Number of functions evaluations: 80\n"
     ]
    },
    {
     "name": "stderr",
     "output_type": "stream",
     "text": [
      "INFO:tensorflow:Optimization terminated with:\n",
      "  Message: b'ABNORMAL_TERMINATION_IN_LNSRCH'\n",
      "  Objective function value: -0.705038\n",
      "  Number of iterations: 10\n",
      "  Number of functions evaluations: 80\n"
     ]
    },
    {
     "name": "stdout",
     "output_type": "stream",
     "text": [
      "Controller's optimization: done in 663.8 seconds with reward=0.705.\n",
      "############################################################## pilco.optimize_policy() takes 678.7721111774445sec\n",
      "No of ops: 8252\n",
      "############################################################## pilco.mgpr takes 2.94171142578125sec\n",
      "INFO:tensorflow:Optimization terminated with:\n",
      "  Message: b'CONVERGENCE: REL_REDUCTION_OF_F_<=_FACTR*EPSMCH'\n",
      "  Objective function value: -2835.786372\n",
      "  Number of iterations: 71\n",
      "  Number of functions evaluations: 85\n"
     ]
    },
    {
     "name": "stderr",
     "output_type": "stream",
     "text": [
      "INFO:tensorflow:Optimization terminated with:\n",
      "  Message: b'CONVERGENCE: REL_REDUCTION_OF_F_<=_FACTR*EPSMCH'\n",
      "  Objective function value: -2835.786372\n",
      "  Number of iterations: 71\n",
      "  Number of functions evaluations: 85\n"
     ]
    },
    {
     "name": "stdout",
     "output_type": "stream",
     "text": [
      "INFO:tensorflow:Optimization terminated with:\n",
      "  Message: b'CONVERGENCE: REL_REDUCTION_OF_F_<=_FACTR*EPSMCH'\n",
      "  Objective function value: -1950.770218\n",
      "  Number of iterations: 67\n",
      "  Number of functions evaluations: 117\n"
     ]
    },
    {
     "name": "stderr",
     "output_type": "stream",
     "text": [
      "INFO:tensorflow:Optimization terminated with:\n",
      "  Message: b'CONVERGENCE: REL_REDUCTION_OF_F_<=_FACTR*EPSMCH'\n",
      "  Objective function value: -1950.770218\n",
      "  Number of iterations: 67\n",
      "  Number of functions evaluations: 117\n"
     ]
    },
    {
     "name": "stdout",
     "output_type": "stream",
     "text": [
      "INFO:tensorflow:Optimization terminated with:\n",
      "  Message: b'CONVERGENCE: REL_REDUCTION_OF_F_<=_FACTR*EPSMCH'\n",
      "  Objective function value: -2928.235174\n",
      "  Number of iterations: 58\n",
      "  Number of functions evaluations: 70\n"
     ]
    },
    {
     "name": "stderr",
     "output_type": "stream",
     "text": [
      "INFO:tensorflow:Optimization terminated with:\n",
      "  Message: b'CONVERGENCE: REL_REDUCTION_OF_F_<=_FACTR*EPSMCH'\n",
      "  Objective function value: -2928.235174\n",
      "  Number of iterations: 58\n",
      "  Number of functions evaluations: 70\n"
     ]
    },
    {
     "name": "stdout",
     "output_type": "stream",
     "text": [
      "INFO:tensorflow:Optimization terminated with:\n",
      "  Message: b'CONVERGENCE: REL_REDUCTION_OF_F_<=_FACTR*EPSMCH'\n",
      "  Objective function value: -2709.968603\n",
      "  Number of iterations: 75\n",
      "  Number of functions evaluations: 87\n"
     ]
    },
    {
     "name": "stderr",
     "output_type": "stream",
     "text": [
      "INFO:tensorflow:Optimization terminated with:\n",
      "  Message: b'CONVERGENCE: REL_REDUCTION_OF_F_<=_FACTR*EPSMCH'\n",
      "  Objective function value: -2709.968603\n",
      "  Number of iterations: 75\n",
      "  Number of functions evaluations: 87\n"
     ]
    },
    {
     "ename": "InvalidArgumentError",
     "evalue": "Cholesky decomposition was not successful. The input might not be valid.\n\t [[Node: GPR-f1b6ae6b-106/likelihood_1/Cholesky = Cholesky[T=DT_DOUBLE, _device=\"/job:localhost/replica:0/task:0/device:CPU:0\"](GPR-f1b6ae6b-106/likelihood_1/add_2)]]\n\nCaused by op 'GPR-f1b6ae6b-106/likelihood_1/Cholesky', defined at:\n  File \"/home/lab/shigeharu/.pyenv/versions/3.6.5/lib/python3.6/runpy.py\", line 193, in _run_module_as_main\n    \"__main__\", mod_spec)\n  File \"/home/lab/shigeharu/.pyenv/versions/3.6.5/lib/python3.6/runpy.py\", line 85, in _run_code\n    exec(code, run_globals)\n  File \"/home/lab/shigeharu/.pyenv/versions/3.6.5/envs/365nog/lib/python3.6/site-packages/ipykernel_launcher.py\", line 16, in <module>\n    app.launch_new_instance()\n  File \"/home/lab/shigeharu/.pyenv/versions/3.6.5/envs/365nog/lib/python3.6/site-packages/traitlets/config/application.py\", line 658, in launch_instance\n    app.start()\n  File \"/home/lab/shigeharu/.pyenv/versions/3.6.5/envs/365nog/lib/python3.6/site-packages/ipykernel/kernelapp.py\", line 505, in start\n    self.io_loop.start()\n  File \"/home/lab/shigeharu/.pyenv/versions/3.6.5/envs/365nog/lib/python3.6/site-packages/tornado/platform/asyncio.py\", line 148, in start\n    self.asyncio_loop.run_forever()\n  File \"/home/lab/shigeharu/.pyenv/versions/3.6.5/lib/python3.6/asyncio/base_events.py\", line 422, in run_forever\n    self._run_once()\n  File \"/home/lab/shigeharu/.pyenv/versions/3.6.5/lib/python3.6/asyncio/base_events.py\", line 1432, in _run_once\n    handle._run()\n  File \"/home/lab/shigeharu/.pyenv/versions/3.6.5/lib/python3.6/asyncio/events.py\", line 145, in _run\n    self._callback(*self._args)\n  File \"/home/lab/shigeharu/.pyenv/versions/3.6.5/envs/365nog/lib/python3.6/site-packages/tornado/ioloop.py\", line 690, in <lambda>\n    lambda f: self._run_callback(functools.partial(callback, future))\n  File \"/home/lab/shigeharu/.pyenv/versions/3.6.5/envs/365nog/lib/python3.6/site-packages/tornado/ioloop.py\", line 743, in _run_callback\n    ret = callback()\n  File \"/home/lab/shigeharu/.pyenv/versions/3.6.5/envs/365nog/lib/python3.6/site-packages/tornado/gen.py\", line 781, in inner\n    self.run()\n  File \"/home/lab/shigeharu/.pyenv/versions/3.6.5/envs/365nog/lib/python3.6/site-packages/tornado/gen.py\", line 742, in run\n    yielded = self.gen.send(value)\n  File \"/home/lab/shigeharu/.pyenv/versions/3.6.5/envs/365nog/lib/python3.6/site-packages/ipykernel/kernelbase.py\", line 357, in process_one\n    yield gen.maybe_future(dispatch(*args))\n  File \"/home/lab/shigeharu/.pyenv/versions/3.6.5/envs/365nog/lib/python3.6/site-packages/tornado/gen.py\", line 209, in wrapper\n    yielded = next(result)\n  File \"/home/lab/shigeharu/.pyenv/versions/3.6.5/envs/365nog/lib/python3.6/site-packages/ipykernel/kernelbase.py\", line 267, in dispatch_shell\n    yield gen.maybe_future(handler(stream, idents, msg))\n  File \"/home/lab/shigeharu/.pyenv/versions/3.6.5/envs/365nog/lib/python3.6/site-packages/tornado/gen.py\", line 209, in wrapper\n    yielded = next(result)\n  File \"/home/lab/shigeharu/.pyenv/versions/3.6.5/envs/365nog/lib/python3.6/site-packages/ipykernel/kernelbase.py\", line 534, in execute_request\n    user_expressions, allow_stdin,\n  File \"/home/lab/shigeharu/.pyenv/versions/3.6.5/envs/365nog/lib/python3.6/site-packages/tornado/gen.py\", line 209, in wrapper\n    yielded = next(result)\n  File \"/home/lab/shigeharu/.pyenv/versions/3.6.5/envs/365nog/lib/python3.6/site-packages/ipykernel/ipkernel.py\", line 294, in do_execute\n    res = shell.run_cell(code, store_history=store_history, silent=silent)\n  File \"/home/lab/shigeharu/.pyenv/versions/3.6.5/envs/365nog/lib/python3.6/site-packages/ipykernel/zmqshell.py\", line 536, in run_cell\n    return super(ZMQInteractiveShell, self).run_cell(*args, **kwargs)\n  File \"/home/lab/shigeharu/.pyenv/versions/3.6.5/envs/365nog/lib/python3.6/site-packages/IPython/core/interactiveshell.py\", line 2843, in run_cell\n    raw_cell, store_history, silent, shell_futures)\n  File \"/home/lab/shigeharu/.pyenv/versions/3.6.5/envs/365nog/lib/python3.6/site-packages/IPython/core/interactiveshell.py\", line 2869, in _run_cell\n    return runner(coro)\n  File \"/home/lab/shigeharu/.pyenv/versions/3.6.5/envs/365nog/lib/python3.6/site-packages/IPython/core/async_helpers.py\", line 67, in _pseudo_sync_runner\n    coro.send(None)\n  File \"/home/lab/shigeharu/.pyenv/versions/3.6.5/envs/365nog/lib/python3.6/site-packages/IPython/core/interactiveshell.py\", line 3044, in run_cell_async\n    interactivity=interactivity, compiler=compiler, result=result)\n  File \"/home/lab/shigeharu/.pyenv/versions/3.6.5/envs/365nog/lib/python3.6/site-packages/IPython/core/interactiveshell.py\", line 3209, in run_ast_nodes\n    if (yield from self.run_code(code, result)):\n  File \"/home/lab/shigeharu/.pyenv/versions/3.6.5/envs/365nog/lib/python3.6/site-packages/IPython/core/interactiveshell.py\", line 3291, in run_code\n    exec(code_obj, self.user_global_ns, self.user_ns)\n  File \"<ipython-input-2-60cee50bd4c5>\", line 46, in <module>\n    pilco = PILCO(X, Y, controller=controller, horizon=40)\n  File \"/home/lab/shigeharu/.pyenv/versions/3.6.5/envs/365nog/lib/python3.6/site-packages/gpflow-1.3.0-py3.6.egg/gpflow/core/compilable.py\", line 86, in __init__\n    origin_init(self, *args, **kwargs)\n  File \"/home/data/mukai/m1_autumn/fuji/PILCO-1/pilco/models/pilco.py\", line 20, in __init__\n    self.mgpr = MGPR(X, Y)\n  File \"/home/lab/shigeharu/.pyenv/versions/3.6.5/envs/365nog/lib/python3.6/site-packages/gpflow-1.3.0-py3.6.egg/gpflow/core/compilable.py\", line 86, in __init__\n    origin_init(self, *args, **kwargs)\n  File \"/home/data/mukai/m1_autumn/fuji/PILCO-1/pilco/models/mgpr.py\", line 24, in __init__\n    self.create_models(X, Y)\n  File \"/home/data/mukai/m1_autumn/fuji/PILCO-1/pilco/models/mgpr.py\", line 33, in create_models\n    self.models[i].clear(); self.models[i].compile()\n  File \"/home/lab/shigeharu/.pyenv/versions/3.6.5/envs/365nog/lib/python3.6/site-packages/gpflow-1.3.0-py3.6.egg/gpflow/core/node.py\", line 58, in compile\n    self.build()\n  File \"/home/lab/shigeharu/.pyenv/versions/3.6.5/envs/365nog/lib/python3.6/site-packages/gpflow-1.3.0-py3.6.egg/gpflow/core/node.py\", line 156, in build\n    self._build()\n  File \"/home/lab/shigeharu/.pyenv/versions/3.6.5/envs/365nog/lib/python3.6/site-packages/gpflow-1.3.0-py3.6.egg/gpflow/models/model.py\", line 79, in _build\n    likelihood = self._build_likelihood()\n  File \"/home/lab/shigeharu/.pyenv/versions/3.6.5/envs/365nog/lib/python3.6/site-packages/gpflow-1.3.0-py3.6.egg/gpflow/decors.py\", line 49, in name_scope_wrapper\n    return method(*args, **kwargs)\n  File \"/home/lab/shigeharu/.pyenv/versions/3.6.5/envs/365nog/lib/python3.6/site-packages/gpflow-1.3.0-py3.6.egg/gpflow/decors.py\", line 67, in tensor_mode_wrapper\n    result = method(obj, *args, **kwargs)\n  File \"/home/lab/shigeharu/.pyenv/versions/3.6.5/envs/365nog/lib/python3.6/site-packages/gpflow-1.3.0-py3.6.egg/gpflow/models/gpr.py\", line 64, in _build_likelihood\n    L = tf.cholesky(K)\n  File \"/home/lab/shigeharu/.pyenv/versions/3.6.5/envs/365nog/lib/python3.6/site-packages/tensorflow/python/ops/gen_linalg_ops.py\", line 412, in cholesky\n    \"Cholesky\", input=input, name=name)\n  File \"/home/lab/shigeharu/.pyenv/versions/3.6.5/envs/365nog/lib/python3.6/site-packages/tensorflow/python/framework/op_def_library.py\", line 787, in _apply_op_helper\n    op_def=op_def)\n  File \"/home/lab/shigeharu/.pyenv/versions/3.6.5/envs/365nog/lib/python3.6/site-packages/tensorflow/python/framework/ops.py\", line 3160, in create_op\n    op_def=op_def)\n  File \"/home/lab/shigeharu/.pyenv/versions/3.6.5/envs/365nog/lib/python3.6/site-packages/tensorflow/python/framework/ops.py\", line 1625, in __init__\n    self._traceback = self._graph._extract_stack()  # pylint: disable=protected-access\n\nInvalidArgumentError (see above for traceback): Cholesky decomposition was not successful. The input might not be valid.\n\t [[Node: GPR-f1b6ae6b-106/likelihood_1/Cholesky = Cholesky[T=DT_DOUBLE, _device=\"/job:localhost/replica:0/task:0/device:CPU:0\"](GPR-f1b6ae6b-106/likelihood_1/add_2)]]\n",
     "output_type": "error",
     "traceback": [
      "\u001b[0;31m-------------------------------------------------------------------------\u001b[0m",
      "\u001b[0;31mInvalidArgumentError\u001b[0m                    Traceback (most recent call last)",
      "\u001b[0;32m~/.pyenv/versions/3.6.5/envs/365nog/lib/python3.6/site-packages/tensorflow/python/client/session.py\u001b[0m in \u001b[0;36m_do_call\u001b[0;34m(self, fn, *args)\u001b[0m\n\u001b[1;32m   1349\u001b[0m     \u001b[0;32mtry\u001b[0m\u001b[0;34m:\u001b[0m\u001b[0;34m\u001b[0m\u001b[0m\n\u001b[0;32m-> 1350\u001b[0;31m       \u001b[0;32mreturn\u001b[0m \u001b[0mfn\u001b[0m\u001b[0;34m(\u001b[0m\u001b[0;34m*\u001b[0m\u001b[0margs\u001b[0m\u001b[0;34m)\u001b[0m\u001b[0;34m\u001b[0m\u001b[0m\n\u001b[0m\u001b[1;32m   1351\u001b[0m     \u001b[0;32mexcept\u001b[0m \u001b[0merrors\u001b[0m\u001b[0;34m.\u001b[0m\u001b[0mOpError\u001b[0m \u001b[0;32mas\u001b[0m \u001b[0me\u001b[0m\u001b[0;34m:\u001b[0m\u001b[0;34m\u001b[0m\u001b[0m\n",
      "\u001b[0;32m~/.pyenv/versions/3.6.5/envs/365nog/lib/python3.6/site-packages/tensorflow/python/client/session.py\u001b[0m in \u001b[0;36m_run_fn\u001b[0;34m(session, feed_dict, fetch_list, target_list, options, run_metadata)\u001b[0m\n\u001b[1;32m   1328\u001b[0m                                    \u001b[0mfeed_dict\u001b[0m\u001b[0;34m,\u001b[0m \u001b[0mfetch_list\u001b[0m\u001b[0;34m,\u001b[0m \u001b[0mtarget_list\u001b[0m\u001b[0;34m,\u001b[0m\u001b[0;34m\u001b[0m\u001b[0m\n\u001b[0;32m-> 1329\u001b[0;31m                                    status, run_metadata)\n\u001b[0m\u001b[1;32m   1330\u001b[0m \u001b[0;34m\u001b[0m\u001b[0m\n",
      "\u001b[0;32m~/.pyenv/versions/3.6.5/envs/365nog/lib/python3.6/site-packages/tensorflow/python/framework/errors_impl.py\u001b[0m in \u001b[0;36m__exit__\u001b[0;34m(self, type_arg, value_arg, traceback_arg)\u001b[0m\n\u001b[1;32m    472\u001b[0m             \u001b[0mcompat\u001b[0m\u001b[0;34m.\u001b[0m\u001b[0mas_text\u001b[0m\u001b[0;34m(\u001b[0m\u001b[0mc_api\u001b[0m\u001b[0;34m.\u001b[0m\u001b[0mTF_Message\u001b[0m\u001b[0;34m(\u001b[0m\u001b[0mself\u001b[0m\u001b[0;34m.\u001b[0m\u001b[0mstatus\u001b[0m\u001b[0;34m.\u001b[0m\u001b[0mstatus\u001b[0m\u001b[0;34m)\u001b[0m\u001b[0;34m)\u001b[0m\u001b[0;34m,\u001b[0m\u001b[0;34m\u001b[0m\u001b[0m\n\u001b[0;32m--> 473\u001b[0;31m             c_api.TF_GetCode(self.status.status))\n\u001b[0m\u001b[1;32m    474\u001b[0m     \u001b[0;31m# Delete the underlying status object from memory otherwise it stays alive\u001b[0m\u001b[0;34m\u001b[0m\u001b[0;34m\u001b[0m\u001b[0m\n",
      "\u001b[0;31mInvalidArgumentError\u001b[0m: Cholesky decomposition was not successful. The input might not be valid.\n\t [[Node: GPR-f1b6ae6b-106/likelihood_1/Cholesky = Cholesky[T=DT_DOUBLE, _device=\"/job:localhost/replica:0/task:0/device:CPU:0\"](GPR-f1b6ae6b-106/likelihood_1/add_2)]]",
      "\nDuring handling of the above exception, another exception occurred:\n",
      "\u001b[0;31mInvalidArgumentError\u001b[0m                    Traceback (most recent call last)",
      "\u001b[0;32m<ipython-input-2-60cee50bd4c5>\u001b[0m in \u001b[0;36m<module>\u001b[0;34m\u001b[0m\n\u001b[1;32m     57\u001b[0m     \u001b[0;32mfor\u001b[0m \u001b[0mrollouts\u001b[0m \u001b[0;32min\u001b[0m \u001b[0mrange\u001b[0m\u001b[0;34m(\u001b[0m\u001b[0;36m3\u001b[0m\u001b[0;34m)\u001b[0m\u001b[0;34m:\u001b[0m\u001b[0;34m\u001b[0m\u001b[0m\n\u001b[1;32m     58\u001b[0m         \u001b[0mst\u001b[0m \u001b[0;34m=\u001b[0m \u001b[0mtime\u001b[0m\u001b[0;34m.\u001b[0m\u001b[0mtime\u001b[0m\u001b[0;34m(\u001b[0m\u001b[0;34m)\u001b[0m\u001b[0;34m\u001b[0m\u001b[0m\n\u001b[0;32m---> 59\u001b[0;31m         \u001b[0mpilco\u001b[0m\u001b[0;34m.\u001b[0m\u001b[0moptimize_models\u001b[0m\u001b[0;34m(\u001b[0m\u001b[0;34m)\u001b[0m\u001b[0;34m\u001b[0m\u001b[0m\n\u001b[0m\u001b[1;32m     60\u001b[0m \u001b[0;34m\u001b[0m\u001b[0m\n\u001b[1;32m     61\u001b[0m         \u001b[0mms\u001b[0m \u001b[0;34m=\u001b[0m \u001b[0;34m'pilco.optimize_models() takes '\u001b[0m\u001b[0;34m\u001b[0m\u001b[0m\n",
      "\u001b[0;32m/home/data/mukai/m1_autumn/fuji/PILCO-1/pilco/models/pilco.py\u001b[0m in \u001b[0;36moptimize_models\u001b[0;34m(self, maxiter, restarts)\u001b[0m\n\u001b[1;32m     55\u001b[0m         \u001b[0mOptimize\u001b[0m \u001b[0mGP\u001b[0m \u001b[0mmodels\u001b[0m\u001b[0;34m\u001b[0m\u001b[0m\n\u001b[1;32m     56\u001b[0m         '''\n\u001b[0;32m---> 57\u001b[0;31m         \u001b[0mself\u001b[0m\u001b[0;34m.\u001b[0m\u001b[0mmgpr\u001b[0m\u001b[0;34m.\u001b[0m\u001b[0moptimize\u001b[0m\u001b[0;34m(\u001b[0m\u001b[0mrestarts\u001b[0m\u001b[0;34m=\u001b[0m\u001b[0mrestarts\u001b[0m\u001b[0;34m)\u001b[0m\u001b[0;34m\u001b[0m\u001b[0m\n\u001b[0m\u001b[1;32m     58\u001b[0m         \u001b[0;31m# Print the resulting model parameters\u001b[0m\u001b[0;34m\u001b[0m\u001b[0;34m\u001b[0m\u001b[0m\n\u001b[1;32m     59\u001b[0m         \u001b[0;31m# ToDo: only do this if verbosity is large enough\u001b[0m\u001b[0;34m\u001b[0m\u001b[0;34m\u001b[0m\u001b[0m\n",
      "\u001b[0;32m/home/data/mukai/m1_autumn/fuji/PILCO-1/pilco/models/mgpr.py\u001b[0m in \u001b[0;36moptimize\u001b[0;34m(self, restarts)\u001b[0m\n\u001b[1;32m     55\u001b[0m                 optimizer._optimizer.minimize(session=session,\n\u001b[1;32m     56\u001b[0m                             \u001b[0mfeed_dict\u001b[0m\u001b[0;34m=\u001b[0m\u001b[0moptimizer\u001b[0m\u001b[0;34m.\u001b[0m\u001b[0m_gen_feed_dict\u001b[0m\u001b[0;34m(\u001b[0m\u001b[0moptimizer\u001b[0m\u001b[0;34m.\u001b[0m\u001b[0m_model\u001b[0m\u001b[0;34m,\u001b[0m \u001b[0;32mNone\u001b[0m\u001b[0;34m)\u001b[0m\u001b[0;34m,\u001b[0m\u001b[0;34m\u001b[0m\u001b[0m\n\u001b[0;32m---> 57\u001b[0;31m                             step_callback=None)\n\u001b[0m\u001b[1;32m     58\u001b[0m                 \u001b[0mlikelihood\u001b[0m \u001b[0;34m=\u001b[0m \u001b[0mmodel\u001b[0m\u001b[0;34m.\u001b[0m\u001b[0mcompute_log_likelihood\u001b[0m\u001b[0;34m(\u001b[0m\u001b[0;34m)\u001b[0m\u001b[0;34m\u001b[0m\u001b[0m\n\u001b[1;32m     59\u001b[0m                 \u001b[0;32mif\u001b[0m \u001b[0mlikelihood\u001b[0m \u001b[0;34m>\u001b[0m \u001b[0mbest_likelihood\u001b[0m\u001b[0;34m:\u001b[0m\u001b[0;34m\u001b[0m\u001b[0m\n",
      "\u001b[0;32m~/.pyenv/versions/3.6.5/envs/365nog/lib/python3.6/site-packages/gpflow-1.3.0-py3.6.egg/gpflow/training/external_optimizer.py\u001b[0m in \u001b[0;36mminimize\u001b[0;34m(self, session, feed_dict, fetches, step_callback, loss_callback, **run_kwargs)\u001b[0m\n\u001b[1;32m    173\u001b[0m         \u001b[0mpacked_bounds\u001b[0m\u001b[0;34m=\u001b[0m\u001b[0mself\u001b[0m\u001b[0;34m.\u001b[0m\u001b[0m_packed_bounds\u001b[0m\u001b[0;34m,\u001b[0m\u001b[0;34m\u001b[0m\u001b[0m\n\u001b[1;32m    174\u001b[0m         \u001b[0mstep_callback\u001b[0m\u001b[0;34m=\u001b[0m\u001b[0mstep_callback\u001b[0m\u001b[0;34m,\u001b[0m\u001b[0;34m\u001b[0m\u001b[0m\n\u001b[0;32m--> 175\u001b[0;31m         optimizer_kwargs=self.optimizer_kwargs)\n\u001b[0m\u001b[1;32m    176\u001b[0m     var_vals = [\n\u001b[1;32m    177\u001b[0m         \u001b[0mpacked_var_val\u001b[0m\u001b[0;34m[\u001b[0m\u001b[0mpacking_slice\u001b[0m\u001b[0;34m]\u001b[0m \u001b[0;32mfor\u001b[0m \u001b[0mpacking_slice\u001b[0m \u001b[0;32min\u001b[0m \u001b[0mself\u001b[0m\u001b[0;34m.\u001b[0m\u001b[0m_packing_slices\u001b[0m\u001b[0;34m\u001b[0m\u001b[0m\n",
      "\u001b[0;32m~/.pyenv/versions/3.6.5/envs/365nog/lib/python3.6/site-packages/gpflow-1.3.0-py3.6.egg/gpflow/training/external_optimizer.py\u001b[0m in \u001b[0;36m_minimize\u001b[0;34m(self, initial_val, loss_grad_func, equality_funcs, equality_grad_funcs, inequality_funcs, inequality_grad_funcs, packed_bounds, step_callback, optimizer_kwargs)\u001b[0m\n\u001b[1;32m    434\u001b[0m \u001b[0;34m\u001b[0m\u001b[0m\n\u001b[1;32m    435\u001b[0m     \u001b[0;32mimport\u001b[0m \u001b[0mscipy\u001b[0m\u001b[0;34m.\u001b[0m\u001b[0moptimize\u001b[0m  \u001b[0;31m# pylint: disable=g-import-not-at-top\u001b[0m\u001b[0;34m\u001b[0m\u001b[0m\n\u001b[0;32m--> 436\u001b[0;31m     \u001b[0mresult\u001b[0m \u001b[0;34m=\u001b[0m \u001b[0mscipy\u001b[0m\u001b[0;34m.\u001b[0m\u001b[0moptimize\u001b[0m\u001b[0;34m.\u001b[0m\u001b[0mminimize\u001b[0m\u001b[0;34m(\u001b[0m\u001b[0;34m*\u001b[0m\u001b[0mminimize_args\u001b[0m\u001b[0;34m,\u001b[0m \u001b[0;34m**\u001b[0m\u001b[0mminimize_kwargs\u001b[0m\u001b[0;34m)\u001b[0m\u001b[0;34m\u001b[0m\u001b[0m\n\u001b[0m\u001b[1;32m    437\u001b[0m     logging.info('Optimization terminated with:\\n'\n\u001b[1;32m    438\u001b[0m                  \u001b[0;34m'  Message: %s\\n'\u001b[0m\u001b[0;34m\u001b[0m\u001b[0m\n",
      "\u001b[0;32m~/.pyenv/versions/3.6.5/envs/365nog/lib/python3.6/site-packages/scipy/optimize/_minimize.py\u001b[0m in \u001b[0;36mminimize\u001b[0;34m(fun, x0, args, method, jac, hess, hessp, bounds, constraints, tol, callback, options)\u001b[0m\n\u001b[1;32m    599\u001b[0m     \u001b[0;32melif\u001b[0m \u001b[0mmeth\u001b[0m \u001b[0;34m==\u001b[0m \u001b[0;34m'l-bfgs-b'\u001b[0m\u001b[0;34m:\u001b[0m\u001b[0;34m\u001b[0m\u001b[0m\n\u001b[1;32m    600\u001b[0m         return _minimize_lbfgsb(fun, x0, args, jac, bounds,\n\u001b[0;32m--> 601\u001b[0;31m                                 callback=callback, **options)\n\u001b[0m\u001b[1;32m    602\u001b[0m     \u001b[0;32melif\u001b[0m \u001b[0mmeth\u001b[0m \u001b[0;34m==\u001b[0m \u001b[0;34m'tnc'\u001b[0m\u001b[0;34m:\u001b[0m\u001b[0;34m\u001b[0m\u001b[0m\n\u001b[1;32m    603\u001b[0m         return _minimize_tnc(fun, x0, args, jac, bounds, callback=callback,\n",
      "\u001b[0;32m~/.pyenv/versions/3.6.5/envs/365nog/lib/python3.6/site-packages/scipy/optimize/lbfgsb.py\u001b[0m in \u001b[0;36m_minimize_lbfgsb\u001b[0;34m(fun, x0, args, jac, bounds, disp, maxcor, ftol, gtol, eps, maxfun, maxiter, iprint, callback, maxls, **unknown_options)\u001b[0m\n\u001b[1;32m    333\u001b[0m             \u001b[0;31m# until the completion of the current minimization iteration.\u001b[0m\u001b[0;34m\u001b[0m\u001b[0;34m\u001b[0m\u001b[0m\n\u001b[1;32m    334\u001b[0m             \u001b[0;31m# Overwrite f and g:\u001b[0m\u001b[0;34m\u001b[0m\u001b[0;34m\u001b[0m\u001b[0m\n\u001b[0;32m--> 335\u001b[0;31m             \u001b[0mf\u001b[0m\u001b[0;34m,\u001b[0m \u001b[0mg\u001b[0m \u001b[0;34m=\u001b[0m \u001b[0mfunc_and_grad\u001b[0m\u001b[0;34m(\u001b[0m\u001b[0mx\u001b[0m\u001b[0;34m)\u001b[0m\u001b[0;34m\u001b[0m\u001b[0m\n\u001b[0m\u001b[1;32m    336\u001b[0m         \u001b[0;32melif\u001b[0m \u001b[0mtask_str\u001b[0m\u001b[0;34m.\u001b[0m\u001b[0mstartswith\u001b[0m\u001b[0;34m(\u001b[0m\u001b[0;34mb'NEW_X'\u001b[0m\u001b[0;34m)\u001b[0m\u001b[0;34m:\u001b[0m\u001b[0;34m\u001b[0m\u001b[0m\n\u001b[1;32m    337\u001b[0m             \u001b[0;31m# new iteration\u001b[0m\u001b[0;34m\u001b[0m\u001b[0;34m\u001b[0m\u001b[0m\n",
      "\u001b[0;32m~/.pyenv/versions/3.6.5/envs/365nog/lib/python3.6/site-packages/scipy/optimize/lbfgsb.py\u001b[0m in \u001b[0;36mfunc_and_grad\u001b[0;34m(x)\u001b[0m\n\u001b[1;32m    283\u001b[0m     \u001b[0;32melse\u001b[0m\u001b[0;34m:\u001b[0m\u001b[0;34m\u001b[0m\u001b[0m\n\u001b[1;32m    284\u001b[0m         \u001b[0;32mdef\u001b[0m \u001b[0mfunc_and_grad\u001b[0m\u001b[0;34m(\u001b[0m\u001b[0mx\u001b[0m\u001b[0;34m)\u001b[0m\u001b[0;34m:\u001b[0m\u001b[0;34m\u001b[0m\u001b[0m\n\u001b[0;32m--> 285\u001b[0;31m             \u001b[0mf\u001b[0m \u001b[0;34m=\u001b[0m \u001b[0mfun\u001b[0m\u001b[0;34m(\u001b[0m\u001b[0mx\u001b[0m\u001b[0;34m,\u001b[0m \u001b[0;34m*\u001b[0m\u001b[0margs\u001b[0m\u001b[0;34m)\u001b[0m\u001b[0;34m\u001b[0m\u001b[0m\n\u001b[0m\u001b[1;32m    286\u001b[0m             \u001b[0mg\u001b[0m \u001b[0;34m=\u001b[0m \u001b[0mjac\u001b[0m\u001b[0;34m(\u001b[0m\u001b[0mx\u001b[0m\u001b[0;34m,\u001b[0m \u001b[0;34m*\u001b[0m\u001b[0margs\u001b[0m\u001b[0;34m)\u001b[0m\u001b[0;34m\u001b[0m\u001b[0m\n\u001b[1;32m    287\u001b[0m             \u001b[0;32mreturn\u001b[0m \u001b[0mf\u001b[0m\u001b[0;34m,\u001b[0m \u001b[0mg\u001b[0m\u001b[0;34m\u001b[0m\u001b[0m\n",
      "\u001b[0;32m~/.pyenv/versions/3.6.5/envs/365nog/lib/python3.6/site-packages/scipy/optimize/optimize.py\u001b[0m in \u001b[0;36mfunction_wrapper\u001b[0;34m(*wrapper_args)\u001b[0m\n\u001b[1;32m    298\u001b[0m     \u001b[0;32mdef\u001b[0m \u001b[0mfunction_wrapper\u001b[0m\u001b[0;34m(\u001b[0m\u001b[0;34m*\u001b[0m\u001b[0mwrapper_args\u001b[0m\u001b[0;34m)\u001b[0m\u001b[0;34m:\u001b[0m\u001b[0;34m\u001b[0m\u001b[0m\n\u001b[1;32m    299\u001b[0m         \u001b[0mncalls\u001b[0m\u001b[0;34m[\u001b[0m\u001b[0;36m0\u001b[0m\u001b[0;34m]\u001b[0m \u001b[0;34m+=\u001b[0m \u001b[0;36m1\u001b[0m\u001b[0;34m\u001b[0m\u001b[0m\n\u001b[0;32m--> 300\u001b[0;31m         \u001b[0;32mreturn\u001b[0m \u001b[0mfunction\u001b[0m\u001b[0;34m(\u001b[0m\u001b[0;34m*\u001b[0m\u001b[0;34m(\u001b[0m\u001b[0mwrapper_args\u001b[0m \u001b[0;34m+\u001b[0m \u001b[0margs\u001b[0m\u001b[0;34m)\u001b[0m\u001b[0;34m)\u001b[0m\u001b[0;34m\u001b[0m\u001b[0m\n\u001b[0m\u001b[1;32m    301\u001b[0m \u001b[0;34m\u001b[0m\u001b[0m\n\u001b[1;32m    302\u001b[0m     \u001b[0;32mreturn\u001b[0m \u001b[0mncalls\u001b[0m\u001b[0;34m,\u001b[0m \u001b[0mfunction_wrapper\u001b[0m\u001b[0;34m\u001b[0m\u001b[0m\n",
      "\u001b[0;32m~/.pyenv/versions/3.6.5/envs/365nog/lib/python3.6/site-packages/scipy/optimize/optimize.py\u001b[0m in \u001b[0;36m__call__\u001b[0;34m(self, x, *args)\u001b[0m\n\u001b[1;32m     61\u001b[0m     \u001b[0;32mdef\u001b[0m \u001b[0m__call__\u001b[0m\u001b[0;34m(\u001b[0m\u001b[0mself\u001b[0m\u001b[0;34m,\u001b[0m \u001b[0mx\u001b[0m\u001b[0;34m,\u001b[0m \u001b[0;34m*\u001b[0m\u001b[0margs\u001b[0m\u001b[0;34m)\u001b[0m\u001b[0;34m:\u001b[0m\u001b[0;34m\u001b[0m\u001b[0m\n\u001b[1;32m     62\u001b[0m         \u001b[0mself\u001b[0m\u001b[0;34m.\u001b[0m\u001b[0mx\u001b[0m \u001b[0;34m=\u001b[0m \u001b[0mnumpy\u001b[0m\u001b[0;34m.\u001b[0m\u001b[0masarray\u001b[0m\u001b[0;34m(\u001b[0m\u001b[0mx\u001b[0m\u001b[0;34m)\u001b[0m\u001b[0;34m.\u001b[0m\u001b[0mcopy\u001b[0m\u001b[0;34m(\u001b[0m\u001b[0;34m)\u001b[0m\u001b[0;34m\u001b[0m\u001b[0m\n\u001b[0;32m---> 63\u001b[0;31m         \u001b[0mfg\u001b[0m \u001b[0;34m=\u001b[0m \u001b[0mself\u001b[0m\u001b[0;34m.\u001b[0m\u001b[0mfun\u001b[0m\u001b[0;34m(\u001b[0m\u001b[0mx\u001b[0m\u001b[0;34m,\u001b[0m \u001b[0;34m*\u001b[0m\u001b[0margs\u001b[0m\u001b[0;34m)\u001b[0m\u001b[0;34m\u001b[0m\u001b[0m\n\u001b[0m\u001b[1;32m     64\u001b[0m         \u001b[0mself\u001b[0m\u001b[0;34m.\u001b[0m\u001b[0mjac\u001b[0m \u001b[0;34m=\u001b[0m \u001b[0mfg\u001b[0m\u001b[0;34m[\u001b[0m\u001b[0;36m1\u001b[0m\u001b[0;34m]\u001b[0m\u001b[0;34m\u001b[0m\u001b[0m\n\u001b[1;32m     65\u001b[0m         \u001b[0;32mreturn\u001b[0m \u001b[0mfg\u001b[0m\u001b[0;34m[\u001b[0m\u001b[0;36m0\u001b[0m\u001b[0;34m]\u001b[0m\u001b[0;34m\u001b[0m\u001b[0m\n",
      "\u001b[0;32m~/.pyenv/versions/3.6.5/envs/365nog/lib/python3.6/site-packages/gpflow-1.3.0-py3.6.egg/gpflow/training/external_optimizer.py\u001b[0m in \u001b[0;36mloss_grad_func_wrapper\u001b[0;34m(x)\u001b[0m\n\u001b[1;32m    396\u001b[0m     \u001b[0;32mdef\u001b[0m \u001b[0mloss_grad_func_wrapper\u001b[0m\u001b[0;34m(\u001b[0m\u001b[0mx\u001b[0m\u001b[0;34m)\u001b[0m\u001b[0;34m:\u001b[0m\u001b[0;34m\u001b[0m\u001b[0m\n\u001b[1;32m    397\u001b[0m       \u001b[0;31m# SciPy's L-BFGS-B Fortran implementation requires gradients as doubles.\u001b[0m\u001b[0;34m\u001b[0m\u001b[0;34m\u001b[0m\u001b[0m\n\u001b[0;32m--> 398\u001b[0;31m       \u001b[0mloss\u001b[0m\u001b[0;34m,\u001b[0m \u001b[0mgradient\u001b[0m \u001b[0;34m=\u001b[0m \u001b[0mloss_grad_func\u001b[0m\u001b[0;34m(\u001b[0m\u001b[0mx\u001b[0m\u001b[0;34m)\u001b[0m\u001b[0;34m\u001b[0m\u001b[0m\n\u001b[0m\u001b[1;32m    399\u001b[0m       \u001b[0;32mreturn\u001b[0m \u001b[0mloss\u001b[0m\u001b[0;34m,\u001b[0m \u001b[0mgradient\u001b[0m\u001b[0;34m.\u001b[0m\u001b[0mastype\u001b[0m\u001b[0;34m(\u001b[0m\u001b[0;34m'float64'\u001b[0m\u001b[0;34m)\u001b[0m\u001b[0;34m\u001b[0m\u001b[0m\n\u001b[1;32m    400\u001b[0m \u001b[0;34m\u001b[0m\u001b[0m\n",
      "\u001b[0;32m~/.pyenv/versions/3.6.5/envs/365nog/lib/python3.6/site-packages/gpflow-1.3.0-py3.6.egg/gpflow/training/external_optimizer.py\u001b[0m in \u001b[0;36meval_func\u001b[0;34m(x)\u001b[0m\n\u001b[1;32m    307\u001b[0m \u001b[0;34m\u001b[0m\u001b[0m\n\u001b[1;32m    308\u001b[0m       augmented_fetch_vals = session.run(\n\u001b[0;32m--> 309\u001b[0;31m           augmented_fetches, feed_dict=augmented_feed_dict)\n\u001b[0m\u001b[1;32m    310\u001b[0m \u001b[0;34m\u001b[0m\u001b[0m\n\u001b[1;32m    311\u001b[0m       \u001b[0;32mif\u001b[0m \u001b[0mcallable\u001b[0m\u001b[0;34m(\u001b[0m\u001b[0mcallback\u001b[0m\u001b[0;34m)\u001b[0m\u001b[0;34m:\u001b[0m\u001b[0;34m\u001b[0m\u001b[0m\n",
      "\u001b[0;32m~/.pyenv/versions/3.6.5/envs/365nog/lib/python3.6/site-packages/tensorflow/python/client/session.py\u001b[0m in \u001b[0;36mrun\u001b[0;34m(self, fetches, feed_dict, options, run_metadata)\u001b[0m\n\u001b[1;32m    893\u001b[0m     \u001b[0;32mtry\u001b[0m\u001b[0;34m:\u001b[0m\u001b[0;34m\u001b[0m\u001b[0m\n\u001b[1;32m    894\u001b[0m       result = self._run(None, fetches, feed_dict, options_ptr,\n\u001b[0;32m--> 895\u001b[0;31m                          run_metadata_ptr)\n\u001b[0m\u001b[1;32m    896\u001b[0m       \u001b[0;32mif\u001b[0m \u001b[0mrun_metadata\u001b[0m\u001b[0;34m:\u001b[0m\u001b[0;34m\u001b[0m\u001b[0m\n\u001b[1;32m    897\u001b[0m         \u001b[0mproto_data\u001b[0m \u001b[0;34m=\u001b[0m \u001b[0mtf_session\u001b[0m\u001b[0;34m.\u001b[0m\u001b[0mTF_GetBuffer\u001b[0m\u001b[0;34m(\u001b[0m\u001b[0mrun_metadata_ptr\u001b[0m\u001b[0;34m)\u001b[0m\u001b[0;34m\u001b[0m\u001b[0m\n",
      "\u001b[0;32m~/.pyenv/versions/3.6.5/envs/365nog/lib/python3.6/site-packages/tensorflow/python/client/session.py\u001b[0m in \u001b[0;36m_run\u001b[0;34m(self, handle, fetches, feed_dict, options, run_metadata)\u001b[0m\n\u001b[1;32m   1126\u001b[0m     \u001b[0;32mif\u001b[0m \u001b[0mfinal_fetches\u001b[0m \u001b[0;32mor\u001b[0m \u001b[0mfinal_targets\u001b[0m \u001b[0;32mor\u001b[0m \u001b[0;34m(\u001b[0m\u001b[0mhandle\u001b[0m \u001b[0;32mand\u001b[0m \u001b[0mfeed_dict_tensor\u001b[0m\u001b[0;34m)\u001b[0m\u001b[0;34m:\u001b[0m\u001b[0;34m\u001b[0m\u001b[0m\n\u001b[1;32m   1127\u001b[0m       results = self._do_run(handle, final_targets, final_fetches,\n\u001b[0;32m-> 1128\u001b[0;31m                              feed_dict_tensor, options, run_metadata)\n\u001b[0m\u001b[1;32m   1129\u001b[0m     \u001b[0;32melse\u001b[0m\u001b[0;34m:\u001b[0m\u001b[0;34m\u001b[0m\u001b[0m\n\u001b[1;32m   1130\u001b[0m       \u001b[0mresults\u001b[0m \u001b[0;34m=\u001b[0m \u001b[0;34m[\u001b[0m\u001b[0;34m]\u001b[0m\u001b[0;34m\u001b[0m\u001b[0m\n",
      "\u001b[0;32m~/.pyenv/versions/3.6.5/envs/365nog/lib/python3.6/site-packages/tensorflow/python/client/session.py\u001b[0m in \u001b[0;36m_do_run\u001b[0;34m(self, handle, target_list, fetch_list, feed_dict, options, run_metadata)\u001b[0m\n\u001b[1;32m   1342\u001b[0m     \u001b[0;32mif\u001b[0m \u001b[0mhandle\u001b[0m \u001b[0;32mis\u001b[0m \u001b[0;32mNone\u001b[0m\u001b[0;34m:\u001b[0m\u001b[0;34m\u001b[0m\u001b[0m\n\u001b[1;32m   1343\u001b[0m       return self._do_call(_run_fn, self._session, feeds, fetches, targets,\n\u001b[0;32m-> 1344\u001b[0;31m                            options, run_metadata)\n\u001b[0m\u001b[1;32m   1345\u001b[0m     \u001b[0;32melse\u001b[0m\u001b[0;34m:\u001b[0m\u001b[0;34m\u001b[0m\u001b[0m\n\u001b[1;32m   1346\u001b[0m       \u001b[0;32mreturn\u001b[0m \u001b[0mself\u001b[0m\u001b[0;34m.\u001b[0m\u001b[0m_do_call\u001b[0m\u001b[0;34m(\u001b[0m\u001b[0m_prun_fn\u001b[0m\u001b[0;34m,\u001b[0m \u001b[0mself\u001b[0m\u001b[0;34m.\u001b[0m\u001b[0m_session\u001b[0m\u001b[0;34m,\u001b[0m \u001b[0mhandle\u001b[0m\u001b[0;34m,\u001b[0m \u001b[0mfeeds\u001b[0m\u001b[0;34m,\u001b[0m \u001b[0mfetches\u001b[0m\u001b[0;34m)\u001b[0m\u001b[0;34m\u001b[0m\u001b[0m\n",
      "\u001b[0;32m~/.pyenv/versions/3.6.5/envs/365nog/lib/python3.6/site-packages/tensorflow/python/client/session.py\u001b[0m in \u001b[0;36m_do_call\u001b[0;34m(self, fn, *args)\u001b[0m\n\u001b[1;32m   1361\u001b[0m         \u001b[0;32mexcept\u001b[0m \u001b[0mKeyError\u001b[0m\u001b[0;34m:\u001b[0m\u001b[0;34m\u001b[0m\u001b[0m\n\u001b[1;32m   1362\u001b[0m           \u001b[0;32mpass\u001b[0m\u001b[0;34m\u001b[0m\u001b[0m\n\u001b[0;32m-> 1363\u001b[0;31m       \u001b[0;32mraise\u001b[0m \u001b[0mtype\u001b[0m\u001b[0;34m(\u001b[0m\u001b[0me\u001b[0m\u001b[0;34m)\u001b[0m\u001b[0;34m(\u001b[0m\u001b[0mnode_def\u001b[0m\u001b[0;34m,\u001b[0m \u001b[0mop\u001b[0m\u001b[0;34m,\u001b[0m \u001b[0mmessage\u001b[0m\u001b[0;34m)\u001b[0m\u001b[0;34m\u001b[0m\u001b[0m\n\u001b[0m\u001b[1;32m   1364\u001b[0m \u001b[0;34m\u001b[0m\u001b[0m\n\u001b[1;32m   1365\u001b[0m   \u001b[0;32mdef\u001b[0m \u001b[0m_extend_graph\u001b[0m\u001b[0;34m(\u001b[0m\u001b[0mself\u001b[0m\u001b[0;34m)\u001b[0m\u001b[0;34m:\u001b[0m\u001b[0;34m\u001b[0m\u001b[0m\n",
      "\u001b[0;31mInvalidArgumentError\u001b[0m: Cholesky decomposition was not successful. The input might not be valid.\n\t [[Node: GPR-f1b6ae6b-106/likelihood_1/Cholesky = Cholesky[T=DT_DOUBLE, _device=\"/job:localhost/replica:0/task:0/device:CPU:0\"](GPR-f1b6ae6b-106/likelihood_1/add_2)]]\n\nCaused by op 'GPR-f1b6ae6b-106/likelihood_1/Cholesky', defined at:\n  File \"/home/lab/shigeharu/.pyenv/versions/3.6.5/lib/python3.6/runpy.py\", line 193, in _run_module_as_main\n    \"__main__\", mod_spec)\n  File \"/home/lab/shigeharu/.pyenv/versions/3.6.5/lib/python3.6/runpy.py\", line 85, in _run_code\n    exec(code, run_globals)\n  File \"/home/lab/shigeharu/.pyenv/versions/3.6.5/envs/365nog/lib/python3.6/site-packages/ipykernel_launcher.py\", line 16, in <module>\n    app.launch_new_instance()\n  File \"/home/lab/shigeharu/.pyenv/versions/3.6.5/envs/365nog/lib/python3.6/site-packages/traitlets/config/application.py\", line 658, in launch_instance\n    app.start()\n  File \"/home/lab/shigeharu/.pyenv/versions/3.6.5/envs/365nog/lib/python3.6/site-packages/ipykernel/kernelapp.py\", line 505, in start\n    self.io_loop.start()\n  File \"/home/lab/shigeharu/.pyenv/versions/3.6.5/envs/365nog/lib/python3.6/site-packages/tornado/platform/asyncio.py\", line 148, in start\n    self.asyncio_loop.run_forever()\n  File \"/home/lab/shigeharu/.pyenv/versions/3.6.5/lib/python3.6/asyncio/base_events.py\", line 422, in run_forever\n    self._run_once()\n  File \"/home/lab/shigeharu/.pyenv/versions/3.6.5/lib/python3.6/asyncio/base_events.py\", line 1432, in _run_once\n    handle._run()\n  File \"/home/lab/shigeharu/.pyenv/versions/3.6.5/lib/python3.6/asyncio/events.py\", line 145, in _run\n    self._callback(*self._args)\n  File \"/home/lab/shigeharu/.pyenv/versions/3.6.5/envs/365nog/lib/python3.6/site-packages/tornado/ioloop.py\", line 690, in <lambda>\n    lambda f: self._run_callback(functools.partial(callback, future))\n  File \"/home/lab/shigeharu/.pyenv/versions/3.6.5/envs/365nog/lib/python3.6/site-packages/tornado/ioloop.py\", line 743, in _run_callback\n    ret = callback()\n  File \"/home/lab/shigeharu/.pyenv/versions/3.6.5/envs/365nog/lib/python3.6/site-packages/tornado/gen.py\", line 781, in inner\n    self.run()\n  File \"/home/lab/shigeharu/.pyenv/versions/3.6.5/envs/365nog/lib/python3.6/site-packages/tornado/gen.py\", line 742, in run\n    yielded = self.gen.send(value)\n  File \"/home/lab/shigeharu/.pyenv/versions/3.6.5/envs/365nog/lib/python3.6/site-packages/ipykernel/kernelbase.py\", line 357, in process_one\n    yield gen.maybe_future(dispatch(*args))\n  File \"/home/lab/shigeharu/.pyenv/versions/3.6.5/envs/365nog/lib/python3.6/site-packages/tornado/gen.py\", line 209, in wrapper\n    yielded = next(result)\n  File \"/home/lab/shigeharu/.pyenv/versions/3.6.5/envs/365nog/lib/python3.6/site-packages/ipykernel/kernelbase.py\", line 267, in dispatch_shell\n    yield gen.maybe_future(handler(stream, idents, msg))\n  File \"/home/lab/shigeharu/.pyenv/versions/3.6.5/envs/365nog/lib/python3.6/site-packages/tornado/gen.py\", line 209, in wrapper\n    yielded = next(result)\n  File \"/home/lab/shigeharu/.pyenv/versions/3.6.5/envs/365nog/lib/python3.6/site-packages/ipykernel/kernelbase.py\", line 534, in execute_request\n    user_expressions, allow_stdin,\n  File \"/home/lab/shigeharu/.pyenv/versions/3.6.5/envs/365nog/lib/python3.6/site-packages/tornado/gen.py\", line 209, in wrapper\n    yielded = next(result)\n  File \"/home/lab/shigeharu/.pyenv/versions/3.6.5/envs/365nog/lib/python3.6/site-packages/ipykernel/ipkernel.py\", line 294, in do_execute\n    res = shell.run_cell(code, store_history=store_history, silent=silent)\n  File \"/home/lab/shigeharu/.pyenv/versions/3.6.5/envs/365nog/lib/python3.6/site-packages/ipykernel/zmqshell.py\", line 536, in run_cell\n    return super(ZMQInteractiveShell, self).run_cell(*args, **kwargs)\n  File \"/home/lab/shigeharu/.pyenv/versions/3.6.5/envs/365nog/lib/python3.6/site-packages/IPython/core/interactiveshell.py\", line 2843, in run_cell\n    raw_cell, store_history, silent, shell_futures)\n  File \"/home/lab/shigeharu/.pyenv/versions/3.6.5/envs/365nog/lib/python3.6/site-packages/IPython/core/interactiveshell.py\", line 2869, in _run_cell\n    return runner(coro)\n  File \"/home/lab/shigeharu/.pyenv/versions/3.6.5/envs/365nog/lib/python3.6/site-packages/IPython/core/async_helpers.py\", line 67, in _pseudo_sync_runner\n    coro.send(None)\n  File \"/home/lab/shigeharu/.pyenv/versions/3.6.5/envs/365nog/lib/python3.6/site-packages/IPython/core/interactiveshell.py\", line 3044, in run_cell_async\n    interactivity=interactivity, compiler=compiler, result=result)\n  File \"/home/lab/shigeharu/.pyenv/versions/3.6.5/envs/365nog/lib/python3.6/site-packages/IPython/core/interactiveshell.py\", line 3209, in run_ast_nodes\n    if (yield from self.run_code(code, result)):\n  File \"/home/lab/shigeharu/.pyenv/versions/3.6.5/envs/365nog/lib/python3.6/site-packages/IPython/core/interactiveshell.py\", line 3291, in run_code\n    exec(code_obj, self.user_global_ns, self.user_ns)\n  File \"<ipython-input-2-60cee50bd4c5>\", line 46, in <module>\n    pilco = PILCO(X, Y, controller=controller, horizon=40)\n  File \"/home/lab/shigeharu/.pyenv/versions/3.6.5/envs/365nog/lib/python3.6/site-packages/gpflow-1.3.0-py3.6.egg/gpflow/core/compilable.py\", line 86, in __init__\n    origin_init(self, *args, **kwargs)\n  File \"/home/data/mukai/m1_autumn/fuji/PILCO-1/pilco/models/pilco.py\", line 20, in __init__\n    self.mgpr = MGPR(X, Y)\n  File \"/home/lab/shigeharu/.pyenv/versions/3.6.5/envs/365nog/lib/python3.6/site-packages/gpflow-1.3.0-py3.6.egg/gpflow/core/compilable.py\", line 86, in __init__\n    origin_init(self, *args, **kwargs)\n  File \"/home/data/mukai/m1_autumn/fuji/PILCO-1/pilco/models/mgpr.py\", line 24, in __init__\n    self.create_models(X, Y)\n  File \"/home/data/mukai/m1_autumn/fuji/PILCO-1/pilco/models/mgpr.py\", line 33, in create_models\n    self.models[i].clear(); self.models[i].compile()\n  File \"/home/lab/shigeharu/.pyenv/versions/3.6.5/envs/365nog/lib/python3.6/site-packages/gpflow-1.3.0-py3.6.egg/gpflow/core/node.py\", line 58, in compile\n    self.build()\n  File \"/home/lab/shigeharu/.pyenv/versions/3.6.5/envs/365nog/lib/python3.6/site-packages/gpflow-1.3.0-py3.6.egg/gpflow/core/node.py\", line 156, in build\n    self._build()\n  File \"/home/lab/shigeharu/.pyenv/versions/3.6.5/envs/365nog/lib/python3.6/site-packages/gpflow-1.3.0-py3.6.egg/gpflow/models/model.py\", line 79, in _build\n    likelihood = self._build_likelihood()\n  File \"/home/lab/shigeharu/.pyenv/versions/3.6.5/envs/365nog/lib/python3.6/site-packages/gpflow-1.3.0-py3.6.egg/gpflow/decors.py\", line 49, in name_scope_wrapper\n    return method(*args, **kwargs)\n  File \"/home/lab/shigeharu/.pyenv/versions/3.6.5/envs/365nog/lib/python3.6/site-packages/gpflow-1.3.0-py3.6.egg/gpflow/decors.py\", line 67, in tensor_mode_wrapper\n    result = method(obj, *args, **kwargs)\n  File \"/home/lab/shigeharu/.pyenv/versions/3.6.5/envs/365nog/lib/python3.6/site-packages/gpflow-1.3.0-py3.6.egg/gpflow/models/gpr.py\", line 64, in _build_likelihood\n    L = tf.cholesky(K)\n  File \"/home/lab/shigeharu/.pyenv/versions/3.6.5/envs/365nog/lib/python3.6/site-packages/tensorflow/python/ops/gen_linalg_ops.py\", line 412, in cholesky\n    \"Cholesky\", input=input, name=name)\n  File \"/home/lab/shigeharu/.pyenv/versions/3.6.5/envs/365nog/lib/python3.6/site-packages/tensorflow/python/framework/op_def_library.py\", line 787, in _apply_op_helper\n    op_def=op_def)\n  File \"/home/lab/shigeharu/.pyenv/versions/3.6.5/envs/365nog/lib/python3.6/site-packages/tensorflow/python/framework/ops.py\", line 3160, in create_op\n    op_def=op_def)\n  File \"/home/lab/shigeharu/.pyenv/versions/3.6.5/envs/365nog/lib/python3.6/site-packages/tensorflow/python/framework/ops.py\", line 1625, in __init__\n    self._traceback = self._graph._extract_stack()  # pylint: disable=protected-access\n\nInvalidArgumentError (see above for traceback): Cholesky decomposition was not successful. The input might not be valid.\n\t [[Node: GPR-f1b6ae6b-106/likelihood_1/Cholesky = Cholesky[T=DT_DOUBLE, _device=\"/job:localhost/replica:0/task:0/device:CPU:0\"](GPR-f1b6ae6b-106/likelihood_1/add_2)]]\n"
     ]
    }
   ],
   "source": [
    "import numpy as np\n",
    "import gym\n",
    "import pybullet_envs\n",
    "from pilco.models import PILCO\n",
    "from pilco.controllers import RbfController, LinearController\n",
    "from pilco.rewards import ExponentialReward\n",
    "import tensorflow as tf\n",
    "from tensorflow import logging\n",
    "np.random.seed(0)\n",
    "\n",
    "def rollout(policy, timesteps):\n",
    "    X = []; Y = []\n",
    "    env.reset()\n",
    "    x, _, _, _ = env.step([0.])\n",
    "    for timestep in range(timesteps):\n",
    "        # env.render()\n",
    "        u = policy(x)\n",
    "        x_new, _, done, _ = env.step(u)\n",
    "        if done: break\n",
    "        X.append(np.hstack((x, u)))\n",
    "        Y.append(x_new - x)\n",
    "        x = x_new\n",
    "    return np.stack(X), np.stack(Y)\n",
    "\n",
    "def random_policy(x):\n",
    "    return env.action_space.sample()\n",
    "\n",
    "def pilco_policy(x):\n",
    "    return pilco.compute_action(x[None, :])[0, :]\n",
    "\n",
    "with tf.Session(graph=tf.Graph()) as sess:\n",
    "    env = gym.make('InvertedPendulumSwingupBulletEnv-v0')\n",
    "    # Initial random rollouts to generate a dataset\n",
    "    X,Y = rollout(policy=random_policy, timesteps=100)\n",
    "    for i in range(1,3):\n",
    "        X_, Y_ = rollout(policy=random_policy, timesteps=100)\n",
    "        X = np.vstack((X, X_))\n",
    "        Y = np.vstack((Y, Y_))\n",
    "\n",
    "\n",
    "    state_dim = Y.shape[1]\n",
    "    control_dim = X.shape[1] - state_dim\n",
    "    controller = RbfController(state_dim=state_dim, control_dim=control_dim, num_basis_functions=5)\n",
    "    #controller = LinearController(state_dim=state_dim, control_dim=control_dim)\n",
    "\n",
    "    pilco = PILCO(X, Y, controller=controller, horizon=40)\n",
    "    # Example of user provided reward function, setting a custom target state\n",
    "    # R = ExponentialReward(state_dim=state_dim, t=np.array([0.1,0,0,0]))\n",
    "    # pilco = PILCO(X, Y, controller=controller, horizon=40, reward=R)\n",
    "\n",
    "    # Example of fixing a parameter, optional, for a linear controller only\n",
    "    #pilco.controller.b = np.array([[0.0]])\n",
    "    #pilco.controller.b.trainable = False\n",
    "    import time\n",
    "    head = '############################################################## '\n",
    "    \n",
    "    for rollouts in range(3):\n",
    "        st = time.time()\n",
    "        pilco.optimize_models()\n",
    "        \n",
    "        ms = 'pilco.optimize_models() takes '\n",
    "        print(head+ms+str(time.time()-st)+'sec')\n",
    "        st = time.time()\n",
    "\n",
    "        pilco.optimize_policy()\n",
    "\n",
    "        ms = 'pilco.optimize_policy() takes '\n",
    "        print(head+ms+str(time.time()-st)+'sec')\n",
    "        st = time.time()\n",
    "        \n",
    "        X_new, Y_new = rollout(policy=pilco_policy, timesteps=100)\n",
    "        print(\"No of ops:\", len(tf.get_default_graph().get_operations()))\n",
    "        # Update dataset\n",
    "        X = np.vstack((X, X_new)); Y = np.vstack((Y, Y_new))\n",
    "        pilco.mgpr.set_XY(X, Y)\n",
    "\n",
    "        ms = 'pilco.mgpr takes '\n",
    "        print(head+ms+str(time.time()-st)+'sec')\n",
    "        st = time.time()"
   ]
  },
  {
   "cell_type": "code",
   "execution_count": null,
   "metadata": {},
   "outputs": [],
   "source": []
  }
 ],
 "metadata": {
  "kernelspec": {
   "display_name": "Python 3",
   "language": "python",
   "name": "python3"
  }
 },
 "nbformat": 4,
 "nbformat_minor": 2
}
